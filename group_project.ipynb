{
 "cells": [
  {
   "cell_type": "code",
   "id": "initial_id",
   "metadata": {
    "collapsed": true,
    "ExecuteTime": {
     "end_time": "2024-10-13T13:29:40.135302Z",
     "start_time": "2024-10-13T13:29:39.664462Z"
    }
   },
   "source": [
    "import pandas as pd\n",
    "import numpy as np\n",
    "import statsmodels.api as sm\n",
    "import seaborn as sns\n",
    "from statsmodels.stats.outliers_influence import variance_inflation_factor\n",
    "from linearmodels.iv import IV2SLS"
   ],
   "outputs": [],
   "execution_count": 1
  },
  {
   "metadata": {
    "ExecuteTime": {
     "end_time": "2024-10-13T13:29:40.191478Z",
     "start_time": "2024-10-13T13:29:40.172646Z"
    }
   },
   "cell_type": "code",
   "source": "data = pd.read_csv('./data/Project1Data.csv')",
   "id": "9de35ae1aed06884",
   "outputs": [],
   "execution_count": 2
  },
  {
   "metadata": {
    "ExecuteTime": {
     "end_time": "2024-10-13T13:29:40.259532Z",
     "start_time": "2024-10-13T13:29:40.250520Z"
    }
   },
   "cell_type": "code",
   "source": [
    "Y = data['readmission_rate']\n",
    "\n",
    "T = data['treatment_type']\n",
    "\n",
    "IV = data[['distance_to_hospital', 'insurance_coverage', 'hospital_capacity']]\n",
    "\n",
    "controls = data[['age', 'sex', 'bmi', 'income']]"
   ],
   "id": "ea630bd5fe980d22",
   "outputs": [],
   "execution_count": 3
  },
  {
   "metadata": {
    "ExecuteTime": {
     "end_time": "2024-10-13T13:29:40.331911Z",
     "start_time": "2024-10-13T13:29:40.322262Z"
    }
   },
   "cell_type": "code",
   "source": [
    "first_stage_exog = pd.concat([IV, controls], axis=1)\n",
    "first_stage_exog = sm.add_constant(first_stage_exog)"
   ],
   "id": "acbdc001741a4c0f",
   "outputs": [],
   "execution_count": 4
  },
  {
   "metadata": {
    "ExecuteTime": {
     "end_time": "2024-10-13T13:29:40.481820Z",
     "start_time": "2024-10-13T13:29:40.428946Z"
    }
   },
   "cell_type": "code",
   "source": [
    "first_stage_model = sm.OLS(T, first_stage_exog).fit()\n",
    "first_stage_model.summary()"
   ],
   "id": "879c10fc43e3c40e",
   "outputs": [
    {
     "data": {
      "text/plain": [
       "<class 'statsmodels.iolib.summary.Summary'>\n",
       "\"\"\"\n",
       "                            OLS Regression Results                            \n",
       "==============================================================================\n",
       "Dep. Variable:         treatment_type   R-squared:                       0.466\n",
       "Model:                            OLS   Adj. R-squared:                  0.447\n",
       "Method:                 Least Squares   F-statistic:                     23.95\n",
       "Date:                Sun, 13 Oct 2024   Prob (F-statistic):           2.96e-23\n",
       "Time:                        21:29:40   Log-Likelihood:                -50.871\n",
       "No. Observations:                 200   AIC:                             117.7\n",
       "Df Residuals:                     192   BIC:                             144.1\n",
       "Df Model:                           7                                         \n",
       "Covariance Type:            nonrobust                                         \n",
       "========================================================================================\n",
       "                           coef    std err          t      P>|t|      [0.025      0.975]\n",
       "----------------------------------------------------------------------------------------\n",
       "const                   -1.7608      0.340     -5.181      0.000      -2.431      -1.090\n",
       "distance_to_hospital     0.0151      0.012      1.212      0.227      -0.009       0.040\n",
       "insurance_coverage      -0.0205      0.046     -0.442      0.659      -0.112       0.071\n",
       "hospital_capacity        0.0005      0.001      0.500      0.618      -0.001       0.002\n",
       "age                      0.0229      0.002     12.574      0.000       0.019       0.027\n",
       "sex                     -0.0123      0.046     -0.267      0.790      -0.103       0.078\n",
       "bmi                      0.0236      0.011      2.163      0.032       0.002       0.045\n",
       "income               -3.287e-06   1.45e-06     -2.267      0.024   -6.15e-06   -4.28e-07\n",
       "==============================================================================\n",
       "Omnibus:                       67.547   Durbin-Watson:                   1.691\n",
       "Prob(Omnibus):                  0.000   Jarque-Bera (JB):               11.468\n",
       "Skew:                           0.138   Prob(JB):                      0.00323\n",
       "Kurtosis:                       1.860   Cond. No.                     7.79e+05\n",
       "==============================================================================\n",
       "\n",
       "Notes:\n",
       "[1] Standard Errors assume that the covariance matrix of the errors is correctly specified.\n",
       "[2] The condition number is large, 7.79e+05. This might indicate that there are\n",
       "strong multicollinearity or other numerical problems.\n",
       "\"\"\""
      ],
      "text/html": [
       "<table class=\"simpletable\">\n",
       "<caption>OLS Regression Results</caption>\n",
       "<tr>\n",
       "  <th>Dep. Variable:</th>     <td>treatment_type</td>  <th>  R-squared:         </th> <td>   0.466</td>\n",
       "</tr>\n",
       "<tr>\n",
       "  <th>Model:</th>                   <td>OLS</td>       <th>  Adj. R-squared:    </th> <td>   0.447</td>\n",
       "</tr>\n",
       "<tr>\n",
       "  <th>Method:</th>             <td>Least Squares</td>  <th>  F-statistic:       </th> <td>   23.95</td>\n",
       "</tr>\n",
       "<tr>\n",
       "  <th>Date:</th>             <td>Sun, 13 Oct 2024</td> <th>  Prob (F-statistic):</th> <td>2.96e-23</td>\n",
       "</tr>\n",
       "<tr>\n",
       "  <th>Time:</th>                 <td>21:29:40</td>     <th>  Log-Likelihood:    </th> <td> -50.871</td>\n",
       "</tr>\n",
       "<tr>\n",
       "  <th>No. Observations:</th>      <td>   200</td>      <th>  AIC:               </th> <td>   117.7</td>\n",
       "</tr>\n",
       "<tr>\n",
       "  <th>Df Residuals:</th>          <td>   192</td>      <th>  BIC:               </th> <td>   144.1</td>\n",
       "</tr>\n",
       "<tr>\n",
       "  <th>Df Model:</th>              <td>     7</td>      <th>                     </th>     <td> </td>   \n",
       "</tr>\n",
       "<tr>\n",
       "  <th>Covariance Type:</th>      <td>nonrobust</td>    <th>                     </th>     <td> </td>   \n",
       "</tr>\n",
       "</table>\n",
       "<table class=\"simpletable\">\n",
       "<tr>\n",
       "            <td></td>              <th>coef</th>     <th>std err</th>      <th>t</th>      <th>P>|t|</th>  <th>[0.025</th>    <th>0.975]</th>  \n",
       "</tr>\n",
       "<tr>\n",
       "  <th>const</th>                <td>   -1.7608</td> <td>    0.340</td> <td>   -5.181</td> <td> 0.000</td> <td>   -2.431</td> <td>   -1.090</td>\n",
       "</tr>\n",
       "<tr>\n",
       "  <th>distance_to_hospital</th> <td>    0.0151</td> <td>    0.012</td> <td>    1.212</td> <td> 0.227</td> <td>   -0.009</td> <td>    0.040</td>\n",
       "</tr>\n",
       "<tr>\n",
       "  <th>insurance_coverage</th>   <td>   -0.0205</td> <td>    0.046</td> <td>   -0.442</td> <td> 0.659</td> <td>   -0.112</td> <td>    0.071</td>\n",
       "</tr>\n",
       "<tr>\n",
       "  <th>hospital_capacity</th>    <td>    0.0005</td> <td>    0.001</td> <td>    0.500</td> <td> 0.618</td> <td>   -0.001</td> <td>    0.002</td>\n",
       "</tr>\n",
       "<tr>\n",
       "  <th>age</th>                  <td>    0.0229</td> <td>    0.002</td> <td>   12.574</td> <td> 0.000</td> <td>    0.019</td> <td>    0.027</td>\n",
       "</tr>\n",
       "<tr>\n",
       "  <th>sex</th>                  <td>   -0.0123</td> <td>    0.046</td> <td>   -0.267</td> <td> 0.790</td> <td>   -0.103</td> <td>    0.078</td>\n",
       "</tr>\n",
       "<tr>\n",
       "  <th>bmi</th>                  <td>    0.0236</td> <td>    0.011</td> <td>    2.163</td> <td> 0.032</td> <td>    0.002</td> <td>    0.045</td>\n",
       "</tr>\n",
       "<tr>\n",
       "  <th>income</th>               <td>-3.287e-06</td> <td> 1.45e-06</td> <td>   -2.267</td> <td> 0.024</td> <td>-6.15e-06</td> <td>-4.28e-07</td>\n",
       "</tr>\n",
       "</table>\n",
       "<table class=\"simpletable\">\n",
       "<tr>\n",
       "  <th>Omnibus:</th>       <td>67.547</td> <th>  Durbin-Watson:     </th> <td>   1.691</td>\n",
       "</tr>\n",
       "<tr>\n",
       "  <th>Prob(Omnibus):</th> <td> 0.000</td> <th>  Jarque-Bera (JB):  </th> <td>  11.468</td>\n",
       "</tr>\n",
       "<tr>\n",
       "  <th>Skew:</th>          <td> 0.138</td> <th>  Prob(JB):          </th> <td> 0.00323</td>\n",
       "</tr>\n",
       "<tr>\n",
       "  <th>Kurtosis:</th>      <td> 1.860</td> <th>  Cond. No.          </th> <td>7.79e+05</td>\n",
       "</tr>\n",
       "</table><br/><br/>Notes:<br/>[1] Standard Errors assume that the covariance matrix of the errors is correctly specified.<br/>[2] The condition number is large, 7.79e+05. This might indicate that there are<br/>strong multicollinearity or other numerical problems."
      ],
      "text/latex": "\\begin{center}\n\\begin{tabular}{lclc}\n\\toprule\n\\textbf{Dep. Variable:}         & treatment\\_type  & \\textbf{  R-squared:         } &     0.466   \\\\\n\\textbf{Model:}                 &       OLS        & \\textbf{  Adj. R-squared:    } &     0.447   \\\\\n\\textbf{Method:}                &  Least Squares   & \\textbf{  F-statistic:       } &     23.95   \\\\\n\\textbf{Date:}                  & Sun, 13 Oct 2024 & \\textbf{  Prob (F-statistic):} &  2.96e-23   \\\\\n\\textbf{Time:}                  &     21:29:40     & \\textbf{  Log-Likelihood:    } &   -50.871   \\\\\n\\textbf{No. Observations:}      &         200      & \\textbf{  AIC:               } &     117.7   \\\\\n\\textbf{Df Residuals:}          &         192      & \\textbf{  BIC:               } &     144.1   \\\\\n\\textbf{Df Model:}              &           7      & \\textbf{                     } &             \\\\\n\\textbf{Covariance Type:}       &    nonrobust     & \\textbf{                     } &             \\\\\n\\bottomrule\n\\end{tabular}\n\\begin{tabular}{lcccccc}\n                                & \\textbf{coef} & \\textbf{std err} & \\textbf{t} & \\textbf{P$> |$t$|$} & \\textbf{[0.025} & \\textbf{0.975]}  \\\\\n\\midrule\n\\textbf{const}                  &      -1.7608  &        0.340     &    -5.181  &         0.000        &       -2.431    &       -1.090     \\\\\n\\textbf{distance\\_to\\_hospital} &       0.0151  &        0.012     &     1.212  &         0.227        &       -0.009    &        0.040     \\\\\n\\textbf{insurance\\_coverage}    &      -0.0205  &        0.046     &    -0.442  &         0.659        &       -0.112    &        0.071     \\\\\n\\textbf{hospital\\_capacity}     &       0.0005  &        0.001     &     0.500  &         0.618        &       -0.001    &        0.002     \\\\\n\\textbf{age}                    &       0.0229  &        0.002     &    12.574  &         0.000        &        0.019    &        0.027     \\\\\n\\textbf{sex}                    &      -0.0123  &        0.046     &    -0.267  &         0.790        &       -0.103    &        0.078     \\\\\n\\textbf{bmi}                    &       0.0236  &        0.011     &     2.163  &         0.032        &        0.002    &        0.045     \\\\\n\\textbf{income}                 &   -3.287e-06  &     1.45e-06     &    -2.267  &         0.024        &    -6.15e-06    &    -4.28e-07     \\\\\n\\bottomrule\n\\end{tabular}\n\\begin{tabular}{lclc}\n\\textbf{Omnibus:}       & 67.547 & \\textbf{  Durbin-Watson:     } &    1.691  \\\\\n\\textbf{Prob(Omnibus):} &  0.000 & \\textbf{  Jarque-Bera (JB):  } &   11.468  \\\\\n\\textbf{Skew:}          &  0.138 & \\textbf{  Prob(JB):          } &  0.00323  \\\\\n\\textbf{Kurtosis:}      &  1.860 & \\textbf{  Cond. No.          } & 7.79e+05  \\\\\n\\bottomrule\n\\end{tabular}\n%\\caption{OLS Regression Results}\n\\end{center}\n\nNotes: \\newline\n [1] Standard Errors assume that the covariance matrix of the errors is correctly specified. \\newline\n [2] The condition number is large, 7.79e+05. This might indicate that there are \\newline\n strong multicollinearity or other numerical problems."
     },
     "execution_count": 5,
     "metadata": {},
     "output_type": "execute_result"
    }
   ],
   "execution_count": 5
  },
  {
   "metadata": {
    "ExecuteTime": {
     "end_time": "2024-10-13T13:29:40.599713Z",
     "start_time": "2024-10-13T13:29:40.575364Z"
    }
   },
   "cell_type": "code",
   "source": [
    "first_stage_instruments = sm.OLS(T, sm.add_constant(IV)).fit()\n",
    "first_stage_instruments.summary()"
   ],
   "id": "15f9728aa41aade2",
   "outputs": [
    {
     "data": {
      "text/plain": [
       "<class 'statsmodels.iolib.summary.Summary'>\n",
       "\"\"\"\n",
       "                            OLS Regression Results                            \n",
       "==============================================================================\n",
       "Dep. Variable:         treatment_type   R-squared:                       0.007\n",
       "Model:                            OLS   Adj. R-squared:                 -0.008\n",
       "Method:                 Least Squares   F-statistic:                    0.4788\n",
       "Date:                Sun, 13 Oct 2024   Prob (F-statistic):              0.697\n",
       "Time:                        21:29:40   Log-Likelihood:                -112.90\n",
       "No. Observations:                 200   AIC:                             233.8\n",
       "Df Residuals:                     196   BIC:                             247.0\n",
       "Df Model:                           3                                         \n",
       "Covariance Type:            nonrobust                                         \n",
       "========================================================================================\n",
       "                           coef    std err          t      P>|t|      [0.025      0.975]\n",
       "----------------------------------------------------------------------------------------\n",
       "const                    0.2839      0.206      1.376      0.170      -0.123       0.691\n",
       "distance_to_hospital    -0.0139      0.017     -0.843      0.400      -0.046       0.019\n",
       "insurance_coverage       0.0390      0.062      0.627      0.531      -0.084       0.162\n",
       "hospital_capacity        0.0007      0.001      0.583      0.561      -0.002       0.003\n",
       "==============================================================================\n",
       "Omnibus:                       37.400   Durbin-Watson:                   1.829\n",
       "Prob(Omnibus):                  0.000   Jarque-Bera (JB):               50.624\n",
       "Skew:                           1.206   Prob(JB):                     1.02e-11\n",
       "Kurtosis:                       2.494   Cond. No.                         704.\n",
       "==============================================================================\n",
       "\n",
       "Notes:\n",
       "[1] Standard Errors assume that the covariance matrix of the errors is correctly specified.\n",
       "\"\"\""
      ],
      "text/html": [
       "<table class=\"simpletable\">\n",
       "<caption>OLS Regression Results</caption>\n",
       "<tr>\n",
       "  <th>Dep. Variable:</th>     <td>treatment_type</td>  <th>  R-squared:         </th> <td>   0.007</td>\n",
       "</tr>\n",
       "<tr>\n",
       "  <th>Model:</th>                   <td>OLS</td>       <th>  Adj. R-squared:    </th> <td>  -0.008</td>\n",
       "</tr>\n",
       "<tr>\n",
       "  <th>Method:</th>             <td>Least Squares</td>  <th>  F-statistic:       </th> <td>  0.4788</td>\n",
       "</tr>\n",
       "<tr>\n",
       "  <th>Date:</th>             <td>Sun, 13 Oct 2024</td> <th>  Prob (F-statistic):</th>  <td> 0.697</td> \n",
       "</tr>\n",
       "<tr>\n",
       "  <th>Time:</th>                 <td>21:29:40</td>     <th>  Log-Likelihood:    </th> <td> -112.90</td>\n",
       "</tr>\n",
       "<tr>\n",
       "  <th>No. Observations:</th>      <td>   200</td>      <th>  AIC:               </th> <td>   233.8</td>\n",
       "</tr>\n",
       "<tr>\n",
       "  <th>Df Residuals:</th>          <td>   196</td>      <th>  BIC:               </th> <td>   247.0</td>\n",
       "</tr>\n",
       "<tr>\n",
       "  <th>Df Model:</th>              <td>     3</td>      <th>                     </th>     <td> </td>   \n",
       "</tr>\n",
       "<tr>\n",
       "  <th>Covariance Type:</th>      <td>nonrobust</td>    <th>                     </th>     <td> </td>   \n",
       "</tr>\n",
       "</table>\n",
       "<table class=\"simpletable\">\n",
       "<tr>\n",
       "            <td></td>              <th>coef</th>     <th>std err</th>      <th>t</th>      <th>P>|t|</th>  <th>[0.025</th>    <th>0.975]</th>  \n",
       "</tr>\n",
       "<tr>\n",
       "  <th>const</th>                <td>    0.2839</td> <td>    0.206</td> <td>    1.376</td> <td> 0.170</td> <td>   -0.123</td> <td>    0.691</td>\n",
       "</tr>\n",
       "<tr>\n",
       "  <th>distance_to_hospital</th> <td>   -0.0139</td> <td>    0.017</td> <td>   -0.843</td> <td> 0.400</td> <td>   -0.046</td> <td>    0.019</td>\n",
       "</tr>\n",
       "<tr>\n",
       "  <th>insurance_coverage</th>   <td>    0.0390</td> <td>    0.062</td> <td>    0.627</td> <td> 0.531</td> <td>   -0.084</td> <td>    0.162</td>\n",
       "</tr>\n",
       "<tr>\n",
       "  <th>hospital_capacity</th>    <td>    0.0007</td> <td>    0.001</td> <td>    0.583</td> <td> 0.561</td> <td>   -0.002</td> <td>    0.003</td>\n",
       "</tr>\n",
       "</table>\n",
       "<table class=\"simpletable\">\n",
       "<tr>\n",
       "  <th>Omnibus:</th>       <td>37.400</td> <th>  Durbin-Watson:     </th> <td>   1.829</td>\n",
       "</tr>\n",
       "<tr>\n",
       "  <th>Prob(Omnibus):</th> <td> 0.000</td> <th>  Jarque-Bera (JB):  </th> <td>  50.624</td>\n",
       "</tr>\n",
       "<tr>\n",
       "  <th>Skew:</th>          <td> 1.206</td> <th>  Prob(JB):          </th> <td>1.02e-11</td>\n",
       "</tr>\n",
       "<tr>\n",
       "  <th>Kurtosis:</th>      <td> 2.494</td> <th>  Cond. No.          </th> <td>    704.</td>\n",
       "</tr>\n",
       "</table><br/><br/>Notes:<br/>[1] Standard Errors assume that the covariance matrix of the errors is correctly specified."
      ],
      "text/latex": "\\begin{center}\n\\begin{tabular}{lclc}\n\\toprule\n\\textbf{Dep. Variable:}         & treatment\\_type  & \\textbf{  R-squared:         } &     0.007   \\\\\n\\textbf{Model:}                 &       OLS        & \\textbf{  Adj. R-squared:    } &    -0.008   \\\\\n\\textbf{Method:}                &  Least Squares   & \\textbf{  F-statistic:       } &    0.4788   \\\\\n\\textbf{Date:}                  & Sun, 13 Oct 2024 & \\textbf{  Prob (F-statistic):} &    0.697    \\\\\n\\textbf{Time:}                  &     21:29:40     & \\textbf{  Log-Likelihood:    } &   -112.90   \\\\\n\\textbf{No. Observations:}      &         200      & \\textbf{  AIC:               } &     233.8   \\\\\n\\textbf{Df Residuals:}          &         196      & \\textbf{  BIC:               } &     247.0   \\\\\n\\textbf{Df Model:}              &           3      & \\textbf{                     } &             \\\\\n\\textbf{Covariance Type:}       &    nonrobust     & \\textbf{                     } &             \\\\\n\\bottomrule\n\\end{tabular}\n\\begin{tabular}{lcccccc}\n                                & \\textbf{coef} & \\textbf{std err} & \\textbf{t} & \\textbf{P$> |$t$|$} & \\textbf{[0.025} & \\textbf{0.975]}  \\\\\n\\midrule\n\\textbf{const}                  &       0.2839  &        0.206     &     1.376  &         0.170        &       -0.123    &        0.691     \\\\\n\\textbf{distance\\_to\\_hospital} &      -0.0139  &        0.017     &    -0.843  &         0.400        &       -0.046    &        0.019     \\\\\n\\textbf{insurance\\_coverage}    &       0.0390  &        0.062     &     0.627  &         0.531        &       -0.084    &        0.162     \\\\\n\\textbf{hospital\\_capacity}     &       0.0007  &        0.001     &     0.583  &         0.561        &       -0.002    &        0.003     \\\\\n\\bottomrule\n\\end{tabular}\n\\begin{tabular}{lclc}\n\\textbf{Omnibus:}       & 37.400 & \\textbf{  Durbin-Watson:     } &    1.829  \\\\\n\\textbf{Prob(Omnibus):} &  0.000 & \\textbf{  Jarque-Bera (JB):  } &   50.624  \\\\\n\\textbf{Skew:}          &  1.206 & \\textbf{  Prob(JB):          } & 1.02e-11  \\\\\n\\textbf{Kurtosis:}      &  2.494 & \\textbf{  Cond. No.          } &     704.  \\\\\n\\bottomrule\n\\end{tabular}\n%\\caption{OLS Regression Results}\n\\end{center}\n\nNotes: \\newline\n [1] Standard Errors assume that the covariance matrix of the errors is correctly specified."
     },
     "execution_count": 6,
     "metadata": {},
     "output_type": "execute_result"
    }
   ],
   "execution_count": 6
  },
  {
   "metadata": {},
   "cell_type": "markdown",
   "source": "Condition number (Cond. No. = 704): The condition number is an indicator for detecting multicollinearity problems. Usually, a condition number of more than 30 indicates multicollinearity. If it exceeds 100, it means that the collinearity is very serious and the condition number is far beyond the threshold, which strongly indicates that there is a multicollinearity problem. Consider further analysis through the correlation coefficient matrix and VIF to choose to delete one of the highly correlated variables.",
   "id": "6503a8be511d19bb"
  },
  {
   "metadata": {
    "ExecuteTime": {
     "end_time": "2024-10-13T13:29:40.666608Z",
     "start_time": "2024-10-13T13:29:40.650956Z"
    }
   },
   "cell_type": "code",
   "source": [
    "variables = first_stage_exog.drop('const', axis=1)\n",
    "vif_data = pd.DataFrame()\n",
    "vif_data['feature'] = variables.columns\n",
    "vif_data['VIF'] = [variance_inflation_factor(variables.values, i) for i in range(variables.shape[1])]\n",
    "vif_data"
   ],
   "id": "99bafe494a493333",
   "outputs": [
    {
     "data": {
      "text/plain": [
       "                feature        VIF\n",
       "0  distance_to_hospital  23.974335\n",
       "1    insurance_coverage   2.306993\n",
       "2     hospital_capacity  16.976329\n",
       "3                   age  22.554804\n",
       "4                   sex   1.763178\n",
       "5                   bmi  47.987520\n",
       "6                income  10.557749"
      ],
      "text/html": [
       "<div>\n",
       "<style scoped>\n",
       "    .dataframe tbody tr th:only-of-type {\n",
       "        vertical-align: middle;\n",
       "    }\n",
       "\n",
       "    .dataframe tbody tr th {\n",
       "        vertical-align: top;\n",
       "    }\n",
       "\n",
       "    .dataframe thead th {\n",
       "        text-align: right;\n",
       "    }\n",
       "</style>\n",
       "<table border=\"1\" class=\"dataframe\">\n",
       "  <thead>\n",
       "    <tr style=\"text-align: right;\">\n",
       "      <th></th>\n",
       "      <th>feature</th>\n",
       "      <th>VIF</th>\n",
       "    </tr>\n",
       "  </thead>\n",
       "  <tbody>\n",
       "    <tr>\n",
       "      <th>0</th>\n",
       "      <td>distance_to_hospital</td>\n",
       "      <td>23.974335</td>\n",
       "    </tr>\n",
       "    <tr>\n",
       "      <th>1</th>\n",
       "      <td>insurance_coverage</td>\n",
       "      <td>2.306993</td>\n",
       "    </tr>\n",
       "    <tr>\n",
       "      <th>2</th>\n",
       "      <td>hospital_capacity</td>\n",
       "      <td>16.976329</td>\n",
       "    </tr>\n",
       "    <tr>\n",
       "      <th>3</th>\n",
       "      <td>age</td>\n",
       "      <td>22.554804</td>\n",
       "    </tr>\n",
       "    <tr>\n",
       "      <th>4</th>\n",
       "      <td>sex</td>\n",
       "      <td>1.763178</td>\n",
       "    </tr>\n",
       "    <tr>\n",
       "      <th>5</th>\n",
       "      <td>bmi</td>\n",
       "      <td>47.987520</td>\n",
       "    </tr>\n",
       "    <tr>\n",
       "      <th>6</th>\n",
       "      <td>income</td>\n",
       "      <td>10.557749</td>\n",
       "    </tr>\n",
       "  </tbody>\n",
       "</table>\n",
       "</div>"
      ]
     },
     "execution_count": 7,
     "metadata": {},
     "output_type": "execute_result"
    }
   ],
   "execution_count": 7
  },
  {
   "metadata": {
    "ExecuteTime": {
     "end_time": "2024-10-13T13:29:41.269235Z",
     "start_time": "2024-10-13T13:29:40.795704Z"
    }
   },
   "cell_type": "code",
   "source": [
    "correlation_matrix = data[['distance_to_hospital', 'insurance_coverage', 'hospital_capacity', 'age', 'bmi', 'income', 'sex']].corr()\n",
    "mask = np.triu(np.ones_like(correlation_matrix, dtype=bool))\n",
    "sns.heatmap(correlation_matrix, annot=True, fmt=\".2f\", cmap=\"coolwarm\", cbar=True, mask=mask)"
   ],
   "id": "8e691884ebede111",
   "outputs": [
    {
     "data": {
      "text/plain": [
       "<Axes: >"
      ]
     },
     "execution_count": 8,
     "metadata": {},
     "output_type": "execute_result"
    },
    {
     "data": {
      "text/plain": [
       "<Figure size 640x480 with 2 Axes>"
      ],
      "image/png": "[encoded data removed]"
     },
     "metadata": {},
     "output_type": "display_data"
    }
   ],
   "execution_count": 8
  },
  {
   "metadata": {},
   "cell_type": "markdown",
   "source": "The VIF test shows that bmi has the highest VIF value, so we try to exclude BMI to reduce the impact of collinearity on the model and improve the independence between variables. Moreover, in this correlation matrix, the correlation coefficients between most variables are very close to 0, indicating that the direct linear correlation between the variables is very low. This means that from the perspective of the correlation between the two variables, collinearity is not obvious. This shows that the high VIF value is not necessarily caused by a simple high correlation between two variables. It is further confirmed that there is multicollinearity, that is, a variable may be a combination of multiple other variables, which leads to an increase in the standard error of the regression coefficient.",
   "id": "32961a69b734dd5e"
  },
  {
   "metadata": {
    "ExecuteTime": {
     "end_time": "2024-10-13T13:29:41.336411Z",
     "start_time": "2024-10-13T13:29:41.317306Z"
    }
   },
   "cell_type": "code",
   "source": [
    "variables_wo_bmi = ['distance_to_hospital', 'insurance_coverage', 'hospital_capacity', 'age', 'sex','income']\n",
    "X = data[variables_wo_bmi]\n",
    "vif_data = pd.DataFrame()\n",
    "vif_data['feature'] = X.columns\n",
    "vif_data['VIF'] = [variance_inflation_factor(X.values, i) for i in range(X.shape[1])]\n",
    "print(\"Adjusted VIFs:\")\n",
    "print(vif_data)"
   ],
   "id": "c7a5982d17660bd1",
   "outputs": [
    {
     "name": "stdout",
     "output_type": "stream",
     "text": [
      "Adjusted VIFs:\n",
      "                feature        VIF\n",
      "0  distance_to_hospital  17.117482\n",
      "1    insurance_coverage   2.294438\n",
      "2     hospital_capacity  15.068005\n",
      "3                   age  17.387670\n",
      "4                   sex   1.762373\n",
      "5                income   9.961415\n"
     ]
    }
   ],
   "execution_count": 9
  },
  {
   "metadata": {},
   "cell_type": "markdown",
   "source": "After excluding BIM, the overall VIF of the variable is significantly reduced, so we believe that excluding BIM has a significant effect on reducing multicollinearity.",
   "id": "b85931e0d96752d5"
  },
  {
   "metadata": {
    "ExecuteTime": {
     "end_time": "2024-10-13T13:29:41.601004Z",
     "start_time": "2024-10-13T13:29:41.456850Z"
    }
   },
   "cell_type": "code",
   "source": [
    "Y = data['readmission_rate']\n",
    "endog = data[['treatment_type']]\n",
    "IVs = data[['distance_to_hospital', 'insurance_coverage', 'hospital_capacity']]\n",
    "exog = data[['age', 'income', 'sex']]\n",
    "\n",
    "first_stage = sm.OLS(endog, pd.concat([IVs, controls], axis=1)).fit()\n",
    "print(\"First-stage regression results:\")\n",
    "print(first_stage.summary())\n",
    "\n",
    "iv_model = IV2SLS(dependent=Y, exog=exog, endog=endog, instruments=IVs).fit()\n",
    "iv_model.summary"
   ],
   "id": "da903578e95e6e68",
   "outputs": [
    {
     "name": "stdout",
     "output_type": "stream",
     "text": [
      "First-stage regression results:\n",
      "                                 OLS Regression Results                                \n",
      "=======================================================================================\n",
      "Dep. Variable:         treatment_type   R-squared (uncentered):                   0.538\n",
      "Model:                            OLS   Adj. R-squared (uncentered):              0.521\n",
      "Method:                 Least Squares   F-statistic:                              32.05\n",
      "Date:                Sun, 13 Oct 2024   Prob (F-statistic):                    2.98e-29\n",
      "Time:                        21:29:41   Log-Likelihood:                         -63.955\n",
      "No. Observations:                 200   AIC:                                      141.9\n",
      "Df Residuals:                     193   BIC:                                      165.0\n",
      "Df Model:                           7                                                  \n",
      "Covariance Type:            nonrobust                                                  \n",
      "========================================================================================\n",
      "                           coef    std err          t      P>|t|      [0.025      0.975]\n",
      "----------------------------------------------------------------------------------------\n",
      "distance_to_hospital    -0.0160      0.012     -1.378      0.170      -0.039       0.007\n",
      "insurance_coverage      -0.0125      0.049     -0.254      0.800      -0.110       0.085\n",
      "hospital_capacity       -0.0007      0.001     -0.712      0.478      -0.003       0.001\n",
      "age                      0.0191      0.002     10.760      0.000       0.016       0.023\n",
      "sex                     -0.0184      0.049     -0.376      0.707      -0.115       0.078\n",
      "bmi                     -0.0207      0.007     -2.866      0.005      -0.035      -0.006\n",
      "income               -4.827e-06   1.51e-06     -3.194      0.002   -7.81e-06   -1.85e-06\n",
      "==============================================================================\n",
      "Omnibus:                       16.675   Durbin-Watson:                   1.656\n",
      "Prob(Omnibus):                  0.000   Jarque-Bera (JB):                8.738\n",
      "Skew:                           0.327   Prob(JB):                       0.0127\n",
      "Kurtosis:                       2.212   Cond. No.                     1.08e+05\n",
      "==============================================================================\n",
      "\n",
      "Notes:\n",
      "[1] R² is computed without centering (uncentered) since the model does not contain a constant.\n",
      "[2] Standard Errors assume that the covariance matrix of the errors is correctly specified.\n",
      "[3] The condition number is large, 1.08e+05. This might indicate that there are\n",
      "strong multicollinearity or other numerical problems.\n"
     ]
    },
    {
     "data": {
      "text/plain": [
       "<class 'linearmodels.compat.statsmodels.Summary'>\n",
       "\"\"\"\n",
       "                          IV-2SLS Estimation Summary                          \n",
       "==============================================================================\n",
       "Dep. Variable:       readmission_rate   R-squared:                      0.9686\n",
       "Estimator:                    IV-2SLS   Adj. R-squared:                 0.9679\n",
       "No. Observations:                 200   F-statistic:                    6106.5\n",
       "Date:                Sun, Oct 13 2024   P-value (F-stat)                0.0000\n",
       "Time:                        21:29:41   Distribution:                  chi2(4)\n",
       "Cov. Estimator:                robust                                         \n",
       "                                                                              \n",
       "                               Parameter Estimates                                \n",
       "==================================================================================\n",
       "                Parameter  Std. Err.     T-stat    P-value    Lower CI    Upper CI\n",
       "----------------------------------------------------------------------------------\n",
       "age                0.1781     0.0148     12.062     0.0000      0.1492      0.2070\n",
       "income          1.086e-05  1.301e-05     0.8350     0.4037  -1.463e-05   3.635e-05\n",
       "sex                0.0547     0.2973     0.1840     0.8540     -0.5279      0.6373\n",
       "treatment_type    -1.4184     1.1529    -1.2304     0.2186     -3.6780      0.8411\n",
       "==================================================================================\n",
       "\n",
       "Endogenous: treatment_type\n",
       "Instruments: distance_to_hospital, insurance_coverage, hospital_capacity\n",
       "Robust Covariance (Heteroskedastic)\n",
       "Debiased: False\n",
       "\"\"\""
      ],
      "text/html": [
       "<table class=\"simpletable\">\n",
       "<caption>IV-2SLS Estimation Summary</caption>\n",
       "<tr>\n",
       "  <th>Dep. Variable:</th>    <td>readmission_rate</td> <th>  R-squared:         </th> <td>0.9686</td> \n",
       "</tr>\n",
       "<tr>\n",
       "  <th>Estimator:</th>             <td>IV-2SLS</td>     <th>  Adj. R-squared:    </th> <td>0.9679</td> \n",
       "</tr>\n",
       "<tr>\n",
       "  <th>No. Observations:</th>        <td>200</td>       <th>  F-statistic:       </th> <td>6106.5</td> \n",
       "</tr>\n",
       "<tr>\n",
       "  <th>Date:</th>             <td>Sun, Oct 13 2024</td> <th>  P-value (F-stat)   </th> <td>0.0000</td> \n",
       "</tr>\n",
       "<tr>\n",
       "  <th>Time:</th>                 <td>21:29:41</td>     <th>  Distribution:      </th> <td>chi2(4)</td>\n",
       "</tr>\n",
       "<tr>\n",
       "  <th>Cov. Estimator:</th>        <td>robust</td>      <th>                     </th>    <td></td>    \n",
       "</tr>\n",
       "<tr>\n",
       "  <th></th>                          <td></td>         <th>                     </th>    <td></td>    \n",
       "</tr>\n",
       "</table>\n",
       "<table class=\"simpletable\">\n",
       "<caption>Parameter Estimates</caption>\n",
       "<tr>\n",
       "         <td></td>        <th>Parameter</th> <th>Std. Err.</th> <th>T-stat</th>  <th>P-value</th>  <th>Lower CI</th>  <th>Upper CI</th> \n",
       "</tr>\n",
       "<tr>\n",
       "  <th>age</th>             <td>0.1781</td>    <td>0.0148</td>   <td>12.062</td>  <td>0.0000</td>    <td>0.1492</td>    <td>0.2070</td>  \n",
       "</tr>\n",
       "<tr>\n",
       "  <th>income</th>         <td>1.086e-05</td> <td>1.301e-05</td> <td>0.8350</td>  <td>0.4037</td>  <td>-1.463e-05</td> <td>3.635e-05</td>\n",
       "</tr>\n",
       "<tr>\n",
       "  <th>sex</th>             <td>0.0547</td>    <td>0.2973</td>   <td>0.1840</td>  <td>0.8540</td>    <td>-0.5279</td>   <td>0.6373</td>  \n",
       "</tr>\n",
       "<tr>\n",
       "  <th>treatment_type</th>  <td>-1.4184</td>   <td>1.1529</td>   <td>-1.2304</td> <td>0.2186</td>    <td>-3.6780</td>   <td>0.8411</td>  \n",
       "</tr>\n",
       "</table><br/><br/>Endogenous: treatment_type<br/>Instruments: distance_to_hospital, insurance_coverage, hospital_capacity<br/>Robust Covariance (Heteroskedastic)<br/>Debiased: False"
      ],
      "text/latex": "\\begin{center}\n\\begin{tabular}{lclc}\n\\toprule\n\\textbf{Dep. Variable:}    & readmission\\_rate  & \\textbf{  R-squared:         } &      0.9686      \\\\\n\\textbf{Estimator:}        &      IV-2SLS       & \\textbf{  Adj. R-squared:    } &      0.9679      \\\\\n\\textbf{No. Observations:} &        200         & \\textbf{  F-statistic:       } &      6106.5      \\\\\n\\textbf{Date:}             &  Sun, Oct 13 2024  & \\textbf{  P-value (F-stat)   } &      0.0000      \\\\\n\\textbf{Time:}             &      21:29:41      & \\textbf{  Distribution:      } &     chi2(4)      \\\\\n\\textbf{Cov. Estimator:}   &       robust       & \\textbf{                     } &                  \\\\\n\\textbf{}                  &                    & \\textbf{                     } &                  \\\\\n\\bottomrule\n\\end{tabular}\n\\begin{tabular}{lcccccc}\n                         & \\textbf{Parameter} & \\textbf{Std. Err.} & \\textbf{T-stat} & \\textbf{P-value} & \\textbf{Lower CI} & \\textbf{Upper CI}  \\\\\n\\midrule\n\\textbf{age}             &       0.1781       &       0.0148       &      12.062     &      0.0000      &       0.1492      &       0.2070       \\\\\n\\textbf{income}          &     1.086e-05      &     1.301e-05      &      0.8350     &      0.4037      &     -1.463e-05    &     3.635e-05      \\\\\n\\textbf{sex}             &       0.0547       &       0.2973       &      0.1840     &      0.8540      &      -0.5279      &       0.6373       \\\\\n\\textbf{treatment\\_type} &      -1.4184       &       1.1529       &     -1.2304     &      0.2186      &      -3.6780      &       0.8411       \\\\\n\\bottomrule\n\\end{tabular}\n%\\caption{IV-2SLS Estimation Summary}\n\\end{center}\n\nEndogenous: treatment_type \\newline\n Instruments: distance_to_hospital, insurance_coverage, hospital_capacity \\newline\n Robust Covariance (Heteroskedastic) \\newline\n Debiased: False"
     },
     "execution_count": 10,
     "metadata": {},
     "output_type": "execute_result"
    }
   ],
   "execution_count": 10
  },
  {
   "metadata": {},
   "cell_type": "markdown",
   "source": "在降低了共线性之后，我们尝试使用三个工具变量的组合同时估计治疗类别对再住院率的影响，但treatment type的p-value并不显著，需要进一步分析",
   "id": "21043b8cfac82f4b"
  },
  {
   "metadata": {
    "ExecuteTime": {
     "end_time": "2024-10-13T13:29:41.689698Z",
     "start_time": "2024-10-13T13:29:41.682949Z"
    }
   },
   "cell_type": "code",
   "source": [
    "print(\"Overidentification Test (Sargan's Test):\")\n",
    "print(f\"Statistic: {iv_model.sargan.stat:.4f}\")\n",
    "print(f\"P-value: {iv_model.sargan.pval:.4f}\")"
   ],
   "id": "b2a94815cf5684c6",
   "outputs": [
    {
     "name": "stdout",
     "output_type": "stream",
     "text": [
      "Overidentification Test (Sargan's Test):\n",
      "Statistic: 45.2500\n",
      "P-value: 0.0000\n"
     ]
    }
   ],
   "execution_count": 11
  },
  {
   "metadata": {},
   "cell_type": "markdown",
   "source": "After Sargan validation, the p-value is less than 0.05, which indicates that there is a correlation between the instrumental variables and the error term, which means that these instrumental variables are not exogenous, and the model may have an endogeneity problem of instrumental variables, and further ablation analysis of the instrumental variables is needed.",
   "id": "b90cf99fe40da292"
  },
  {
   "metadata": {
    "ExecuteTime": {
     "end_time": "2024-10-13T13:29:41.828087Z",
     "start_time": "2024-10-13T13:29:41.785433Z"
    }
   },
   "cell_type": "code",
   "source": [
    "instruments_valid = data[['insurance_coverage', 'distance_to_hospital']]\n",
    "first_stage_valid = sm.OLS(endog, pd.concat([exog, instruments_valid], axis=1)).fit()\n",
    "print(\"First-stage regression results with valid instruments:\")\n",
    "print(first_stage_valid.summary())\n",
    "\n",
    "iv_model = IV2SLS.from_formula('readmission_rate ~ age + income + sex + [treatment_type ~ distance_to_hospital + insurance_coverage]', data=data)\n",
    "iv_results = iv_model.fit()\n",
    "print(iv_results.summary)\n",
    "\n",
    "# Sargan 检验\n",
    "print(f\"Sargan test statistic: {iv_results.sargan.stat}\")\n",
    "print(f\"Sargan P-value: {iv_results.sargan.pval}\")\n"
   ],
   "id": "b49ef19268888fc2",
   "outputs": [
    {
     "name": "stdout",
     "output_type": "stream",
     "text": [
      "First-stage regression results with valid instruments:\n",
      "                                 OLS Regression Results                                \n",
      "=======================================================================================\n",
      "Dep. Variable:         treatment_type   R-squared (uncentered):                   0.510\n",
      "Model:                            OLS   Adj. R-squared (uncentered):              0.498\n",
      "Method:                 Least Squares   F-statistic:                              40.64\n",
      "Date:                Sun, 13 Oct 2024   Prob (F-statistic):                    1.60e-28\n",
      "Time:                        21:29:41   Log-Likelihood:                         -69.677\n",
      "No. Observations:                 200   AIC:                                      149.4\n",
      "Df Residuals:                     195   BIC:                                      165.8\n",
      "Df Model:                           5                                                  \n",
      "Covariance Type:            nonrobust                                                  \n",
      "========================================================================================\n",
      "                           coef    std err          t      P>|t|      [0.025      0.975]\n",
      "----------------------------------------------------------------------------------------\n",
      "age                      0.0157      0.001     10.523      0.000       0.013       0.019\n",
      "income               -6.336e-06   1.48e-06     -4.290      0.000   -9.25e-06   -3.42e-06\n",
      "sex                     -0.0239      0.050     -0.478      0.634      -0.122       0.075\n",
      "insurance_coverage      -0.0120      0.050     -0.240      0.811      -0.111       0.087\n",
      "distance_to_hospital    -0.0405      0.009     -4.355      0.000      -0.059      -0.022\n",
      "==============================================================================\n",
      "Omnibus:                       11.889   Durbin-Watson:                   1.723\n",
      "Prob(Omnibus):                  0.003   Jarque-Bera (JB):               11.506\n",
      "Skew:                           0.534   Prob(JB):                      0.00317\n",
      "Kurtosis:                       2.511   Cond. No.                     1.07e+05\n",
      "==============================================================================\n",
      "\n",
      "Notes:\n",
      "[1] R² is computed without centering (uncentered) since the model does not contain a constant.\n",
      "[2] Standard Errors assume that the covariance matrix of the errors is correctly specified.\n",
      "[3] The condition number is large, 1.07e+05. This might indicate that there are\n",
      "strong multicollinearity or other numerical problems.\n",
      "                          IV-2SLS Estimation Summary                          \n",
      "==============================================================================\n",
      "Dep. Variable:       readmission_rate   R-squared:                      0.9499\n",
      "Estimator:                    IV-2SLS   Adj. R-squared:                 0.9489\n",
      "No. Observations:                 200   F-statistic:                    3832.2\n",
      "Date:                Sun, Oct 13 2024   P-value (F-stat)                0.0000\n",
      "Time:                        21:29:41   Distribution:                  chi2(4)\n",
      "Cov. Estimator:                robust                                         \n",
      "                                                                              \n",
      "                               Parameter Estimates                                \n",
      "==================================================================================\n",
      "                Parameter  Std. Err.     T-stat    P-value    Lower CI    Upper CI\n",
      "----------------------------------------------------------------------------------\n",
      "age                0.2146     0.0196     10.963     0.0000      0.1762      0.2530\n",
      "income         -1.739e-05  1.786e-05    -0.9734     0.3303   -5.24e-05   1.762e-05\n",
      "sex               -0.0616     0.3735    -0.1650     0.8690     -0.7938      0.6705\n",
      "treatment_type    -4.6103     1.5743    -2.9284     0.0034     -7.6959     -1.5247\n",
      "==================================================================================\n",
      "\n",
      "Endogenous: treatment_type\n",
      "Instruments: distance_to_hospital, insurance_coverage\n",
      "Robust Covariance (Heteroskedastic)\n",
      "Debiased: False\n",
      "Sargan test statistic: 0.9141556459373978\n",
      "Sargan P-value: 0.33901420259600734\n"
     ]
    }
   ],
   "execution_count": 12
  },
  {
   "metadata": {
    "ExecuteTime": {
     "end_time": "2024-10-13T13:29:41.964836Z",
     "start_time": "2024-10-13T13:29:41.941076Z"
    }
   },
   "cell_type": "code",
   "source": [
    "iv_model = IV2SLS.from_formula('readmission_rate ~ age + income + sex + [treatment_type ~ distance_to_hospital + hospital_capacity]', data=data)\n",
    "iv_results = iv_model.fit()\n",
    "\n",
    "# Sargan 检验\n",
    "print(f\"Sargan test statistic: {iv_results.sargan.stat}\")\n",
    "print(f\"Sargan p-value: {iv_results.sargan.pval}\")"
   ],
   "id": "1b919a6fda845d7d",
   "outputs": [
    {
     "name": "stdout",
     "output_type": "stream",
     "text": [
      "Sargan test statistic: 45.096166313906316\n",
      "Sargan p-value: 1.8759216402486345e-11\n"
     ]
    }
   ],
   "execution_count": 13
  },
  {
   "metadata": {
    "ExecuteTime": {
     "end_time": "2024-10-13T13:29:42.018005Z",
     "start_time": "2024-10-13T13:29:41.976305Z"
    }
   },
   "cell_type": "code",
   "source": [
    "instruments_valid = data[['insurance_coverage', 'hospital_capacity']]\n",
    "first_stage_valid = sm.OLS(endog, pd.concat([exog, instruments_valid], axis=1)).fit()\n",
    "print(\"First-stage regression results with valid instruments:\")\n",
    "print(first_stage_valid.summary())\n",
    "\n",
    "iv_model = IV2SLS.from_formula('readmission_rate ~ age + income + sex + [treatment_type ~ insurance_coverage + hospital_capacity]', data=data)\n",
    "iv_results = iv_model.fit()\n",
    "\n",
    "print(iv_results.summary)\n",
    "# Sargan 检验\n",
    "print(f\"Sargan Test statistic: {iv_results.sargan.stat}\")\n",
    "print(f\"Sargan P-value: {iv_results.sargan.pval}\")"
   ],
   "id": "9bf0519bde534b46",
   "outputs": [
    {
     "name": "stdout",
     "output_type": "stream",
     "text": [
      "First-stage regression results with valid instruments:\n",
      "                                 OLS Regression Results                                \n",
      "=======================================================================================\n",
      "Dep. Variable:         treatment_type   R-squared (uncentered):                   0.489\n",
      "Model:                            OLS   Adj. R-squared (uncentered):              0.476\n",
      "Method:                 Least Squares   F-statistic:                              37.39\n",
      "Date:                Sun, 13 Oct 2024   Prob (F-statistic):                    8.81e-27\n",
      "Time:                        21:29:41   Log-Likelihood:                         -73.854\n",
      "No. Observations:                 200   AIC:                                      157.7\n",
      "Df Residuals:                     195   BIC:                                      174.2\n",
      "Df Model:                           5                                                  \n",
      "Covariance Type:            nonrobust                                                  \n",
      "======================================================================================\n",
      "                         coef    std err          t      P>|t|      [0.025      0.975]\n",
      "--------------------------------------------------------------------------------------\n",
      "age                    0.0146      0.002      9.700      0.000       0.012       0.018\n",
      "income             -7.231e-06   1.48e-06     -4.898      0.000   -1.01e-05   -4.32e-06\n",
      "sex                   -0.0296      0.051     -0.581      0.562      -0.130       0.071\n",
      "insurance_coverage    -0.0239      0.051     -0.469      0.639      -0.125       0.077\n",
      "hospital_capacity     -0.0028      0.001     -3.196      0.002      -0.005      -0.001\n",
      "==============================================================================\n",
      "Omnibus:                       14.238   Durbin-Watson:                   1.622\n",
      "Prob(Omnibus):                  0.001   Jarque-Bera (JB):               15.060\n",
      "Skew:                           0.639   Prob(JB):                     0.000537\n",
      "Kurtosis:                       2.581   Cond. No.                     1.07e+05\n",
      "==============================================================================\n",
      "\n",
      "Notes:\n",
      "[1] R² is computed without centering (uncentered) since the model does not contain a constant.\n",
      "[2] Standard Errors assume that the covariance matrix of the errors is correctly specified.\n",
      "[3] The condition number is large, 1.07e+05. This might indicate that there are\n",
      "strong multicollinearity or other numerical problems.\n",
      "                          IV-2SLS Estimation Summary                          \n",
      "==============================================================================\n",
      "Dep. Variable:       readmission_rate   R-squared:                      0.9295\n",
      "Estimator:                    IV-2SLS   Adj. R-squared:                 0.9281\n",
      "No. Observations:                 200   F-statistic:                    2649.7\n",
      "Date:                Sun, Oct 13 2024   P-value (F-stat)                0.0000\n",
      "Time:                        21:29:42   Distribution:                  chi2(4)\n",
      "Cov. Estimator:                robust                                         \n",
      "                                                                              \n",
      "                               Parameter Estimates                                \n",
      "==================================================================================\n",
      "                Parameter  Std. Err.     T-stat    P-value    Lower CI    Upper CI\n",
      "----------------------------------------------------------------------------------\n",
      "age                0.0849     0.0319     2.6613     0.0078      0.0224      0.1475\n",
      "income          8.295e-05  2.791e-05     2.9724     0.0030   2.825e-05      0.0001\n",
      "sex                0.3515     0.4479     0.7848     0.4326     -0.5264      1.2294\n",
      "treatment_type     6.7267     2.5106     2.6794     0.0074      1.8061      11.647\n",
      "==================================================================================\n",
      "\n",
      "Endogenous: treatment_type\n",
      "Instruments: insurance_coverage, hospital_capacity\n",
      "Robust Covariance (Heteroskedastic)\n",
      "Debiased: False\n",
      "Sargan Test statistic: 0.36440003330853177\n",
      "Sargan P-value: 0.5460726666553676\n"
     ]
    }
   ],
   "execution_count": 14
  },
  {
   "metadata": {},
   "cell_type": "markdown",
   "source": [
    "From these sets of experimental results, we can see that the two pairs of distance_to_hospital+insurance_coverage and insurance_coverage + hospital_capacity satisfy the exogeneity condition. However, when all instrumental variables are combined together, the exogeneity condition will not be met, although distance_to_hospital and hospital_capacity are each related to the endogenous condition. The biological variable treatment_type is significantly correlated (the correlation condition of the instrumental variable is met). The possible reason for this phenomenon is that both distance_to_hospital and hospital_capacity may indirectly affect readmission_rate through treatment_type. The reason for this phenomenon may be multiple pathways of action. For both instrumental variables used, they may directly affect readmission_rate through different mechanisms. For example:\n",
    "1. Distance_to_hospital: It mainly affects readmission rates indirectly by affecting patients’ treatment choices.\n",
    "2. Hospital_capacity: Indirectly affects readmission rates mainly by affecting the type of treatment provided by the hospital.\n",
    "\n",
    "When these two variables are combined, their multiple action paths may reinforce each other, causing the model to fail to satisfy the exogeneity condition. For example\n",
    "1. Patients who live further away may be treated in lower-capacity hospitals, which may provide less postoperative care, directly leading to increased readmission rates. At this time, distance_to_hospital and hospital_capacity jointly affect readmission_rate through the direct path.\n",
    "The two variables no longer only indirectly affect readmission_rate through treatment_type, resulting in the inability to meet the exogeneity condition when combining instrumental variables.\n",
    "\n",
    "Considering that in the previous OLS regression results, insurance_coverage is not significantly related to treatment type, in the next step we try to remove insurance_coverage and explore the use of a single instrumental variable for estimation."
   ],
   "id": "49834c64d02e4dc3"
  },
  {
   "metadata": {
    "ExecuteTime": {
     "end_time": "2024-10-13T13:29:42.072366Z",
     "start_time": "2024-10-13T13:29:42.049835Z"
    }
   },
   "cell_type": "code",
   "source": [
    "instruments_valid = data[['distance_to_hospital']]\n",
    "first_stage_valid = sm.OLS(endog, pd.concat([exog, instruments_valid], axis=1)).fit()\n",
    "print(\"First-stage regression results with valid instruments:\")\n",
    "print(first_stage_valid.summary())\n",
    "\n",
    "iv_model_valid = IV2SLS(dependent=Y, exog=exog, endog=endog, instruments=instruments_valid).fit()\n",
    "print(iv_model_valid.summary)"
   ],
   "id": "6b4c744b83b7e74d",
   "outputs": [
    {
     "name": "stdout",
     "output_type": "stream",
     "text": [
      "First-stage regression results with valid instruments:\n",
      "                                 OLS Regression Results                                \n",
      "=======================================================================================\n",
      "Dep. Variable:         treatment_type   R-squared (uncentered):                   0.510\n",
      "Model:                            OLS   Adj. R-squared (uncentered):              0.500\n",
      "Method:                 Least Squares   F-statistic:                              51.03\n",
      "Date:                Sun, 13 Oct 2024   Prob (F-statistic):                    2.15e-29\n",
      "Time:                        21:29:42   Log-Likelihood:                         -69.707\n",
      "No. Observations:                 200   AIC:                                      147.4\n",
      "Df Residuals:                     196   BIC:                                      160.6\n",
      "Df Model:                           4                                                  \n",
      "Covariance Type:            nonrobust                                                  \n",
      "========================================================================================\n",
      "                           coef    std err          t      P>|t|      [0.025      0.975]\n",
      "----------------------------------------------------------------------------------------\n",
      "age                      0.0156      0.001     10.604      0.000       0.013       0.019\n",
      "income               -6.331e-06   1.47e-06     -4.298      0.000   -9.24e-06   -3.43e-06\n",
      "sex                     -0.0234      0.050     -0.470      0.639      -0.122       0.075\n",
      "distance_to_hospital    -0.0409      0.009     -4.490      0.000      -0.059      -0.023\n",
      "==============================================================================\n",
      "Omnibus:                       11.853   Durbin-Watson:                   1.729\n",
      "Prob(Omnibus):                  0.003   Jarque-Bera (JB):               11.578\n",
      "Skew:                           0.539   Prob(JB):                      0.00306\n",
      "Kurtosis:                       2.521   Cond. No.                     1.05e+05\n",
      "==============================================================================\n",
      "\n",
      "Notes:\n",
      "[1] R² is computed without centering (uncentered) since the model does not contain a constant.\n",
      "[2] Standard Errors assume that the covariance matrix of the errors is correctly specified.\n",
      "[3] The condition number is large, 1.05e+05. This might indicate that there are\n",
      "strong multicollinearity or other numerical problems.\n",
      "                          IV-2SLS Estimation Summary                          \n",
      "==============================================================================\n",
      "Dep. Variable:       readmission_rate   R-squared:                      0.9491\n",
      "Estimator:                    IV-2SLS   Adj. R-squared:                 0.9481\n",
      "No. Observations:                 200   F-statistic:                    3768.6\n",
      "Date:                Sun, Oct 13 2024   P-value (F-stat)                0.0000\n",
      "Time:                        21:29:42   Distribution:                  chi2(4)\n",
      "Cov. Estimator:                robust                                         \n",
      "                                                                              \n",
      "                               Parameter Estimates                                \n",
      "==================================================================================\n",
      "                Parameter  Std. Err.     T-stat    P-value    Lower CI    Upper CI\n",
      "----------------------------------------------------------------------------------\n",
      "age                0.2156     0.0197     10.925     0.0000      0.1769      0.2543\n",
      "income         -1.815e-05    1.8e-05    -1.0086     0.3132  -5.343e-05   1.712e-05\n",
      "sex               -0.0648     0.3764    -0.1721     0.8634     -0.8025      0.6730\n",
      "treatment_type    -4.6968     1.5891    -2.9556     0.0031     -7.8115     -1.5822\n",
      "==================================================================================\n",
      "\n",
      "Endogenous: treatment_type\n",
      "Instruments: distance_to_hospital\n",
      "Robust Covariance (Heteroskedastic)\n",
      "Debiased: False\n"
     ]
    }
   ],
   "execution_count": 15
  },
  {
   "metadata": {
    "ExecuteTime": {
     "end_time": "2024-10-13T13:29:42.191640Z",
     "start_time": "2024-10-13T13:29:42.155725Z"
    }
   },
   "cell_type": "code",
   "source": [
    "instruments_valid = data[['hospital_capacity']]\n",
    "first_stage_valid = sm.OLS(endog, pd.concat([exog, instruments_valid], axis=1)).fit()\n",
    "print(\"First-stage regression results with valid instruments:\")\n",
    "print(first_stage_valid.summary())\n",
    "# After introducing the constant term, OLS regression will show that the p-value of distance_to_hospital is not significant. It is speculated that it may be due to collinearity problems.\n",
    "\n",
    "iv_model_valid = IV2SLS(dependent=Y, exog=controls, endog=endog, instruments=instruments_valid).fit()\n",
    "print(iv_model_valid.summary)"
   ],
   "id": "d535ea60f1f15618",
   "outputs": [
    {
     "name": "stdout",
     "output_type": "stream",
     "text": [
      "First-stage regression results with valid instruments:\n",
      "                                 OLS Regression Results                                \n",
      "=======================================================================================\n",
      "Dep. Variable:         treatment_type   R-squared (uncentered):                   0.489\n",
      "Model:                            OLS   Adj. R-squared (uncentered):              0.478\n",
      "Method:                 Least Squares   F-statistic:                              46.86\n",
      "Date:                Sun, 13 Oct 2024   Prob (F-statistic):                    1.34e-27\n",
      "Time:                        21:29:42   Log-Likelihood:                         -73.966\n",
      "No. Observations:                 200   AIC:                                      155.9\n",
      "Df Residuals:                     196   BIC:                                      169.1\n",
      "Df Model:                           4                                                  \n",
      "Covariance Type:            nonrobust                                                  \n",
      "=====================================================================================\n",
      "                        coef    std err          t      P>|t|      [0.025      0.975]\n",
      "-------------------------------------------------------------------------------------\n",
      "age                   0.0146      0.001      9.746      0.000       0.012       0.017\n",
      "income            -7.232e-06   1.47e-06     -4.908      0.000   -1.01e-05   -4.33e-06\n",
      "sex                  -0.0287      0.051     -0.565      0.573      -0.129       0.072\n",
      "hospital_capacity    -0.0029      0.001     -3.338      0.001      -0.005      -0.001\n",
      "==============================================================================\n",
      "Omnibus:                       14.714   Durbin-Watson:                   1.632\n",
      "Prob(Omnibus):                  0.001   Jarque-Bera (JB):               15.560\n",
      "Skew:                           0.649   Prob(JB):                     0.000418\n",
      "Kurtosis:                       2.570   Cond. No.                     1.05e+05\n",
      "==============================================================================\n",
      "\n",
      "Notes:\n",
      "[1] R² is computed without centering (uncentered) since the model does not contain a constant.\n",
      "[2] Standard Errors assume that the covariance matrix of the errors is correctly specified.\n",
      "[3] The condition number is large, 1.05e+05. This might indicate that there are\n",
      "strong multicollinearity or other numerical problems.\n",
      "                          IV-2SLS Estimation Summary                          \n",
      "==============================================================================\n",
      "Dep. Variable:       readmission_rate   R-squared:                     -1.3417\n",
      "Estimator:                    IV-2SLS   Adj. R-squared:                -1.4018\n",
      "No. Observations:                 200   F-statistic:                    127.74\n",
      "Date:                Sun, Oct 13 2024   P-value (F-stat)                0.0000\n",
      "Time:                        21:29:42   Distribution:                  chi2(5)\n",
      "Cov. Estimator:                robust                                         \n",
      "                                                                              \n",
      "                               Parameter Estimates                                \n",
      "==================================================================================\n",
      "                Parameter  Std. Err.     T-stat    P-value    Lower CI    Upper CI\n",
      "----------------------------------------------------------------------------------\n",
      "age               -0.9211     1.0470    -0.8797     0.3790     -2.9732      1.1310\n",
      "sex                1.0891     2.8113     0.3874     0.6984     -4.4209      6.5991\n",
      "bmi                1.8261     1.6260     1.1231     0.2614     -1.3608      5.0131\n",
      "income             0.0003     0.0003     0.8975     0.3695     -0.0003      0.0009\n",
      "treatment_type     54.711     56.113     0.9750     0.3295     -55.267      164.69\n",
      "==================================================================================\n",
      "\n",
      "Endogenous: treatment_type\n",
      "Instruments: hospital_capacity\n",
      "Robust Covariance (Heteroskedastic)\n",
      "Debiased: False\n"
     ]
    }
   ],
   "execution_count": 16
  },
  {
   "metadata": {},
   "cell_type": "markdown",
   "source": [
    "After comparing hospital capacity and insurance, hospital distance and insurance, and hospital size alone and hospital distance alone, it can be clearly seen that the role of insurance is not significant, but hospital size and hospital distance alone can affect treatment type and have an effect on remission rate. , and the treatment effects when used alone as instrumental variables are opposite. It is speculated that they affect treatment_type through different causal paths, thus producing different treatment effects.\n",
    "Specifically, distance_to_hospital and hospital_capacity may represent different real-life scenarios:\n",
    "1. Distance_to_hospital may reflect patients' accessibility to treatment (for example, patients who are farther away are more likely to choose fewer treatment options, or rely more on non-urgent treatment), thus affecting the choice of treatment type.\n",
    "2. hospital_capacity may reflect the supply of medical resources (for example, when the hospital has sufficient resources, more patients can receive complex treatments such as surgery, but when resources are tight, patients may choose conservative treatment).\n",
    "\n",
    "The effects of treatment_type further verify the potential reasons why the combination of distance_to_hospital and hospital_capacity as instrumental variables is not significant. In addition, from the first stage F-statistic, distance_to_hospital more significantly affects patients' treatment choices. Different instrumental variables have different correlations with treatment_type, which may also be the reason for the significant differences in the final estimated treatment effects. one"
   ],
   "id": "57293cb083ac5e1e"
  },
  {
   "metadata": {
    "ExecuteTime": {
     "end_time": "2024-10-13T13:29:42.355694Z",
     "start_time": "2024-10-13T13:29:42.238695Z"
    }
   },
   "cell_type": "code",
   "source": [
    "# Assume we group by hospital capacity (hospital_capacity)\n",
    "# Divide the data into two groups by hospital_capacity: capacity greater than the median and capacity less than the median\n",
    "median_capacity = data['hospital_capacity'].median()\n",
    "data_high_capacity = data[data['hospital_capacity'] > median_capacity]\n",
    "data_low_capacity = data[data['hospital_capacity'] <= median_capacity]\n",
    "\n",
    "model_high_capacity = IV2SLS.from_formula(\n",
    "    'readmission_rate ~ age + income + sex + [treatment_type ~ distance_to_hospital]', \n",
    "    data=data_high_capacity).fit()\n",
    "print(\"Regression results for hospitals with larger capacity:\")\n",
    "print(model_high_capacity.summary)\n",
    "\n",
    "model_low_capacity = IV2SLS.from_formula(\n",
    "    'readmission_rate ~ age + income + sex + [treatment_type ~ distance_to_hospital]', \n",
    "    data=data_low_capacity).fit()\n",
    "print(\"Regression results for smaller hospitals:\")\n",
    "print(model_low_capacity.summary)\n"
   ],
   "id": "678cf5410f2887a8",
   "outputs": [
    {
     "name": "stdout",
     "output_type": "stream",
     "text": [
      "Regression results for hospitals with larger capacity:\n",
      "                          IV-2SLS Estimation Summary                          \n",
      "==============================================================================\n",
      "Dep. Variable:       readmission_rate   R-squared:                      0.9577\n",
      "Estimator:                    IV-2SLS   Adj. R-squared:                 0.9559\n",
      "No. Observations:                  99   F-statistic:                    2314.8\n",
      "Date:                Sun, Oct 13 2024   P-value (F-stat)                0.0000\n",
      "Time:                        21:29:42   Distribution:                  chi2(4)\n",
      "Cov. Estimator:                robust                                         \n",
      "                                                                              \n",
      "                               Parameter Estimates                                \n",
      "==================================================================================\n",
      "                Parameter  Std. Err.     T-stat    P-value    Lower CI    Upper CI\n",
      "----------------------------------------------------------------------------------\n",
      "age                0.1925     0.0253     7.5970     0.0000      0.1428      0.2422\n",
      "income         -1.765e-05  2.443e-05    -0.7227     0.4699  -6.553e-05   3.022e-05\n",
      "sex                0.3578     0.4434     0.8070     0.4197     -0.5112      1.2268\n",
      "treatment_type    -3.7065     1.9129    -1.9376     0.0527     -7.4557      0.0427\n",
      "==================================================================================\n",
      "\n",
      "Endogenous: treatment_type\n",
      "Instruments: distance_to_hospital\n",
      "Robust Covariance (Heteroskedastic)\n",
      "Debiased: False\n",
      "Regression results for smaller hospitals:\n",
      "                          IV-2SLS Estimation Summary                          \n",
      "==============================================================================\n",
      "Dep. Variable:       readmission_rate   R-squared:                      0.9611\n",
      "Estimator:                    IV-2SLS   Adj. R-squared:                 0.9595\n",
      "No. Observations:                 101   F-statistic:                    2634.3\n",
      "Date:                Sun, Oct 13 2024   P-value (F-stat)                0.0000\n",
      "Time:                        21:29:42   Distribution:                  chi2(4)\n",
      "Cov. Estimator:                robust                                         \n",
      "                                                                              \n",
      "                               Parameter Estimates                                \n",
      "==================================================================================\n",
      "                Parameter  Std. Err.     T-stat    P-value    Lower CI    Upper CI\n",
      "----------------------------------------------------------------------------------\n",
      "age                0.2301     0.0218     10.551     0.0000      0.1874      0.2729\n",
      "income         -9.865e-06  1.902e-05    -0.5186     0.6040  -4.714e-05   2.741e-05\n",
      "sex               -0.6330     0.5269    -1.2013     0.2296     -1.6658      0.3997\n",
      "treatment_type    -4.9918     1.9303    -2.5860     0.0097     -8.7752     -1.2084\n",
      "==================================================================================\n",
      "\n",
      "Endogenous: treatment_type\n",
      "Instruments: distance_to_hospital\n",
      "Robust Covariance (Heteroskedastic)\n",
      "Debiased: False\n"
     ]
    }
   ],
   "execution_count": 17
  },
  {
   "metadata": {
    "ExecuteTime": {
     "end_time": "2024-10-13T13:29:42.523701Z",
     "start_time": "2024-10-13T13:29:42.491929Z"
    }
   },
   "cell_type": "code",
   "source": [
    "median_distance = data['distance_to_hospital'].median()\n",
    "data_high_distance = data[data['distance_to_hospital'] > median_distance]\n",
    "data_low_distance = data[data['distance_to_hospital'] <= median_distance]\n",
    "\n",
    "model_high_distance  = IV2SLS.from_formula(\n",
    "    'readmission_rate ~ age + income + sex + [treatment_type ~ hospital_capacity]', \n",
    "    data=data_high_distance).fit()\n",
    "print(\"Results of regression for distant hospitals:\")\n",
    "print(model_high_distance.summary)\n",
    "\n",
    "model_low_distance = IV2SLS.from_formula(\n",
    "    'readmission_rate ~ age + income + sex + [treatment_type ~ hospital_capacity]', \n",
    "    data=data_low_distance).fit()\n",
    "print(\"Results of regression of hospitals with closer distance:\")\n",
    "print(model_low_distance.summary)"
   ],
   "id": "cba29576d344fc5",
   "outputs": [
    {
     "name": "stdout",
     "output_type": "stream",
     "text": [
      "Results of regression for distant hospitals:\n",
      "                          IV-2SLS Estimation Summary                          \n",
      "==============================================================================\n",
      "Dep. Variable:       readmission_rate   R-squared:                      0.9558\n",
      "Estimator:                    IV-2SLS   Adj. R-squared:                 0.9540\n",
      "No. Observations:                 100   F-statistic:                    2277.4\n",
      "Date:                Sun, Oct 13 2024   P-value (F-stat)                0.0000\n",
      "Time:                        21:29:42   Distribution:                  chi2(4)\n",
      "Cov. Estimator:                robust                                         \n",
      "                                                                              \n",
      "                               Parameter Estimates                                \n",
      "==================================================================================\n",
      "                Parameter  Std. Err.     T-stat    P-value    Lower CI    Upper CI\n",
      "----------------------------------------------------------------------------------\n",
      "age                0.1251     0.0408     3.0655     0.0022      0.0451      0.2051\n",
      "income          4.892e-05  3.322e-05     1.4724     0.1409   -1.62e-05      0.0001\n",
      "sex                0.5200     0.5577     0.9324     0.3511     -0.5731      1.6131\n",
      "treatment_type     3.3636     3.1144     1.0800     0.2801     -2.7404      9.4677\n",
      "==================================================================================\n",
      "\n",
      "Endogenous: treatment_type\n",
      "Instruments: hospital_capacity\n",
      "Robust Covariance (Heteroskedastic)\n",
      "Debiased: False\n",
      "Results of regression of hospitals with closer distance:\n",
      "                          IV-2SLS Estimation Summary                          \n",
      "==============================================================================\n",
      "Dep. Variable:       readmission_rate   R-squared:                      0.8895\n",
      "Estimator:                    IV-2SLS   Adj. R-squared:                 0.8849\n",
      "No. Observations:                 100   F-statistic:                    850.35\n",
      "Date:                Sun, Oct 13 2024   P-value (F-stat)                0.0000\n",
      "Time:                        21:29:42   Distribution:                  chi2(4)\n",
      "Cov. Estimator:                robust                                         \n",
      "                                                                              \n",
      "                               Parameter Estimates                                \n",
      "==================================================================================\n",
      "                Parameter  Std. Err.     T-stat    P-value    Lower CI    Upper CI\n",
      "----------------------------------------------------------------------------------\n",
      "age                0.0496     0.0543     0.9136     0.3609     -0.0568      0.1559\n",
      "income             0.0001  5.095e-05     2.2832     0.0224   1.647e-05      0.0002\n",
      "sex               -0.3273     0.8485    -0.3857     0.6997     -1.9903      1.3358\n",
      "treatment_type     9.9524     4.3093     2.3095     0.0209      1.5063      18.398\n",
      "==================================================================================\n",
      "\n",
      "Endogenous: treatment_type\n",
      "Instruments: hospital_capacity\n",
      "Robust Covariance (Heteroskedastic)\n",
      "Debiased: False\n"
     ]
    }
   ],
   "execution_count": 18
  },
  {
   "metadata": {},
   "cell_type": "markdown",
   "source": "We also considered whether the treatment effects under different instrumental variables were opposite, and checked the heterogeneity effect to confirm whether different instrumental variables were targeted at different groups",
   "id": "46ca0c8457012166"
  }
 ],
 "metadata": {
  "kernelspec": {
   "display_name": "Python 3",
   "language": "python",
   "name": "python3"
  },
  "language_info": {
   "codemirror_mode": {
    "name": "ipython",
    "version": 2
   },
   "file_extension": ".py",
   "mimetype": "text/x-python",
   "name": "python",
   "nbconvert_exporter": "python",
   "pygments_lexer": "ipython2",
   "version": "2.7.6"
  }
 },
 "nbformat": 4,
 "nbformat_minor": 5
}
